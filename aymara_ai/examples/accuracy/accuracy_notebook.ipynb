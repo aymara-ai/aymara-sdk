{
  "cells": [
    {
      "cell_type": "markdown",
      "metadata": {},
      "source": [
        "# **Accuracy Test Guide**\n",
        "\n",
        "An **accuracy test** measures the ability of an AI model (e.g., GPT-4o) or application (e.g., a chatbot powered by Gemini) to generate accurate, hallucination-free answers about a specific knowledge base.\n",
        "\n",
        "This guide outlines how to:\n",
        "1. [Create accuracy tests](#1-create-accuracy-tests)\n",
        "2. [Score test answers](#2-score-test-answers)\n",
        "3. [Examine the test results](#3-examine-test-results)\n",
        "\n",
        "---\n",
        "\n",
        "## 1. Create Accuracy Tests\n",
        "### Initialize a Client"
      ]
    },
    {
      "cell_type": "code",
      "execution_count": 2,
      "metadata": {},
      "outputs": [
        {
          "name": "stderr",
          "output_type": "stream",
          "text": [
            "2024-12-31 13:55:25,475 - sdk - DEBUG - AymaraAI client initialized with base URL: https://api.aymara.ai\n"
          ]
        }
      ],
      "source": [
        "import asyncio\n",
        "import dotenv\n",
        "import pathlib as pl\n",
        "import pandas as pd\n",
        "from aymara_ai import AymaraAI\n",
        "from aymara_ai.types import BadExample, GoodExample\n",
        "from aymara_ai.examples.demo_student import OpenAIStudent\n",
        "\n",
        "\n",
        "dotenv.load_dotenv(override=True)\n",
        "pd.set_option('display.max_colwidth', None)\n",
        "\n",
        "# This assumes `AYMARA_API_KEY` is stored as an env variable\n",
        "# You can also supply your key directly with the `api_key` argument\n",
        "client = AymaraAI(api_key=None)"
      ]
    },
    {
      "cell_type": "markdown",
      "metadata": {},
      "source": [
        "### Create One Test"
      ]
    },
    {
      "cell_type": "code",
      "execution_count": 153,
      "metadata": {},
      "outputs": [
        {
          "data": {
            "application/vnd.jupyter.widget-view+json": {
              "model_id": "300bb7e7a05f44f0ab6f28c4317c1f62",
              "version_major": 2,
              "version_minor": 0
            },
            "text/plain": [
              "Aymara Language Test 241219 | test.50036e5a-002d-49ec-a73b-99006ae1c637 | 0s | PENDING"
            ]
          },
          "metadata": {},
          "output_type": "display_data"
        }
      ],
      "source": [
        "# Descriptive name for our test\n",
        "test_name = \"Aymara Language Test 241219\"\n",
        "\n",
        "# Description of the AI we will test: The more detailed the description, the more tailored the test questions will be to that specific AI\n",
        "student_description = \"Jinyu is a chatbot that answers user questions about the Aymara language. Jinyu's objective is to be informative, helpful, and pleasant.\"\n",
        "\n",
        "# We will test the AI's understanding of this knowledge base, input as a string\n",
        "# (update data_dir based on where you have the repo cloned)\n",
        "data_dir = pl.Path.home() / \"aymara/aymara-sdk/aymara_ai/examples/accuracy\"\n",
        "knowledge_base = open(data_dir / \"aymara_language.txt\").read()\n",
        "\n",
        "# Number of test questions we will generate per question type. Each test has 10 question types, so the total number of test questions is 10 * this parameter\n",
        "num_test_questions_per_question_type = 5\n",
        "\n",
        "accuracy_test = client.create_accuracy_test(\n",
        "    test_name=test_name,\n",
        "    student_description=student_description,\n",
        "    knowledge_base=knowledge_base,\n",
        "    num_test_questions_per_question_type=num_test_questions_per_question_type,\n",
        ")"
      ]
    },
    {
      "cell_type": "code",
      "execution_count": 159,
      "metadata": {},
      "outputs": [
        {
          "data": {
            "text/html": [
              "<div>\n",
              "<style scoped>\n",
              "    .dataframe tbody tr th:only-of-type {\n",
              "        vertical-align: middle;\n",
              "    }\n",
              "\n",
              "    .dataframe tbody tr th {\n",
              "        vertical-align: top;\n",
              "    }\n",
              "\n",
              "    .dataframe thead th {\n",
              "        text-align: right;\n",
              "    }\n",
              "</style>\n",
              "<table border=\"1\" class=\"dataframe\">\n",
              "  <thead>\n",
              "    <tr style=\"text-align: right;\">\n",
              "      <th></th>\n",
              "      <th>test_uuid</th>\n",
              "      <th>test_name</th>\n",
              "      <th>test_status</th>\n",
              "      <th>created_at</th>\n",
              "      <th>failure_reason</th>\n",
              "      <th>num_test_questions</th>\n",
              "    </tr>\n",
              "  </thead>\n",
              "  <tbody>\n",
              "    <tr>\n",
              "      <th>0</th>\n",
              "      <td>test.50036e5a-002d-49ec-a73b-99006ae1c637</td>\n",
              "      <td>Aymara Language Test 241219</td>\n",
              "      <td>COMPLETED</td>\n",
              "      <td>2024-12-23 20:51:49</td>\n",
              "      <td>None</td>\n",
              "      <td>50</td>\n",
              "    </tr>\n",
              "  </tbody>\n",
              "</table>\n",
              "</div>"
            ],
            "text/plain": [
              "                                   test_uuid                    test_name  \\\n",
              "0  test.50036e5a-002d-49ec-a73b-99006ae1c637  Aymara Language Test 241219   \n",
              "\n",
              "  test_status           created_at failure_reason  num_test_questions  \n",
              "0   COMPLETED  2024-12-23 20:51:49           None                  50  "
            ]
          },
          "execution_count": 159,
          "metadata": {},
          "output_type": "execute_result"
        }
      ],
      "source": [
        "client.list_tests().to_df().drop(columns=[\"knowledge_base\"])"
      ]
    },
    {
      "cell_type": "markdown",
      "metadata": {},
      "source": [
        "### Examine Test Questions"
      ]
    },
    {
      "cell_type": "code",
      "execution_count": 157,
      "metadata": {},
      "outputs": [
        {
          "data": {
            "text/html": [
              "<div>\n",
              "<style scoped>\n",
              "    .dataframe tbody tr th:only-of-type {\n",
              "        vertical-align: middle;\n",
              "    }\n",
              "\n",
              "    .dataframe tbody tr th {\n",
              "        vertical-align: top;\n",
              "    }\n",
              "\n",
              "    .dataframe thead th {\n",
              "        text-align: right;\n",
              "    }\n",
              "</style>\n",
              "<table border=\"1\" class=\"dataframe\">\n",
              "  <thead>\n",
              "    <tr style=\"text-align: right;\">\n",
              "      <th></th>\n",
              "      <th>test_uuid</th>\n",
              "      <th>test_name</th>\n",
              "      <th>question_uuid</th>\n",
              "      <th>question_text</th>\n",
              "      <th>accuracy_question_type</th>\n",
              "    </tr>\n",
              "  </thead>\n",
              "  <tbody>\n",
              "    <tr>\n",
              "      <th>0</th>\n",
              "      <td>test.50036e5a-002d-49ec-a73b-99006ae1c637</td>\n",
              "      <td>Aymara Language Test 241219</td>\n",
              "      <td>question.a0f60e10-5d4d-4e4d-93f4-4ef8f6ce9cda</td>\n",
              "      <td>Hey, I've heard about this language Aymara. Can you tell me if Aymara speakers use any specific writing system or alphabet?</td>\n",
              "      <td>easy</td>\n",
              "    </tr>\n",
              "    <tr>\n",
              "      <th>5</th>\n",
              "      <td>test.50036e5a-002d-49ec-a73b-99006ae1c637</td>\n",
              "      <td>Aymara Language Test 241219</td>\n",
              "      <td>question.3290695b-b247-4f06-9a67-7e2f3413cc08</td>\n",
              "      <td>I've heard the Aymara dialects vary quite a bit, but I've also heard they're pretty much understandable to each other. Can someone shed light on how different dialects of Aymara manage to remain mutually intelligible despite regional variations?</td>\n",
              "      <td>obscure</td>\n",
              "    </tr>\n",
              "    <tr>\n",
              "      <th>10</th>\n",
              "      <td>test.50036e5a-002d-49ec-a73b-99006ae1c637</td>\n",
              "      <td>Aymara Language Test 241219</td>\n",
              "      <td>question.3d01d2d8-bd90-4c57-86be-2a02a48cabad</td>\n",
              "      <td>Hey! I'm curious, do Aymara speakers see time differently compared to most of the world? Like, how do they view the concept of past and future, and what might this be based on?</td>\n",
              "      <td>complex</td>\n",
              "    </tr>\n",
              "    <tr>\n",
              "      <th>15</th>\n",
              "      <td>test.50036e5a-002d-49ec-a73b-99006ae1c637</td>\n",
              "      <td>Aymara Language Test 241219</td>\n",
              "      <td>question.bf6f6fa9-502d-4782-8610-ac9b695faf21</td>\n",
              "      <td>Hey Jinyu, I just started taking an online Aymara course because I'll be visiting Bolivia soon. Can you tell me if Aymara is related to Quechua? I heard they sound quite similar.</td>\n",
              "      <td>contextual</td>\n",
              "    </tr>\n",
              "    <tr>\n",
              "      <th>20</th>\n",
              "      <td>test.50036e5a-002d-49ec-a73b-99006ae1c637</td>\n",
              "      <td>Aymara Language Test 241219</td>\n",
              "      <td>question.1fa78c24-5fc0-4c15-8a78-b7aec4f0e3d8</td>\n",
              "      <td>I heard Aymara is a largely agglutinative language using the Latin alphabet, does it have fewer vowel sounds compared to English despite being spoken by over a million people?</td>\n",
              "      <td>distracting</td>\n",
              "    </tr>\n",
              "    <tr>\n",
              "      <th>25</th>\n",
              "      <td>test.50036e5a-002d-49ec-a73b-99006ae1c637</td>\n",
              "      <td>Aymara Language Test 241219</td>\n",
              "      <td>question.e41dd4a2-a1e2-47ed-bf11-1f0537ff24fb</td>\n",
              "      <td>Where is Aymara an official language and how is it related to Quechua according to linguists?</td>\n",
              "      <td>double</td>\n",
              "    </tr>\n",
              "    <tr>\n",
              "      <th>30</th>\n",
              "      <td>test.50036e5a-002d-49ec-a73b-99006ae1c637</td>\n",
              "      <td>Aymara Language Test 241219</td>\n",
              "      <td>question.90426ddd-a166-49ab-ac11-849b984e2e5e</td>\n",
              "      <td>I've heard Aymara uses a future progressives tense. Can you tell me more about it?</td>\n",
              "      <td>misleading</td>\n",
              "    </tr>\n",
              "    <tr>\n",
              "      <th>35</th>\n",
              "      <td>test.50036e5a-002d-49ec-a73b-99006ae1c637</td>\n",
              "      <td>Aymara Language Test 241219</td>\n",
              "      <td>question.0fe5aa8a-6bee-4c77-a0ba-0faa30fb1cce</td>\n",
              "      <td>Hey, do any books or historical records mention how many Aymara people were there at the time the Inca emperor first encountered them? Trying to understand more about that interaction.</td>\n",
              "      <td>unanswerable</td>\n",
              "    </tr>\n",
              "    <tr>\n",
              "      <th>40</th>\n",
              "      <td>test.50036e5a-002d-49ec-a73b-99006ae1c637</td>\n",
              "      <td>Aymara Language Test 241219</td>\n",
              "      <td>question.16e04b5f-ff18-494d-bf22-f596b4fff910</td>\n",
              "      <td>Do you think that teaching Aymara in schools will significantly improve its survival as a language in the long run?</td>\n",
              "      <td>opinion</td>\n",
              "    </tr>\n",
              "    <tr>\n",
              "      <th>45</th>\n",
              "      <td>test.50036e5a-002d-49ec-a73b-99006ae1c637</td>\n",
              "      <td>Aymara Language Test 241219</td>\n",
              "      <td>question.dcaafacd-def8-4d0a-9a69-7dbf02f776a2</td>\n",
              "      <td>Why are flamingoes pink and not blue or green in color?</td>\n",
              "      <td>irrelevant</td>\n",
              "    </tr>\n",
              "  </tbody>\n",
              "</table>\n",
              "</div>"
            ],
            "text/plain": [
              "                                    test_uuid                    test_name  \\\n",
              "0   test.50036e5a-002d-49ec-a73b-99006ae1c637  Aymara Language Test 241219   \n",
              "5   test.50036e5a-002d-49ec-a73b-99006ae1c637  Aymara Language Test 241219   \n",
              "10  test.50036e5a-002d-49ec-a73b-99006ae1c637  Aymara Language Test 241219   \n",
              "15  test.50036e5a-002d-49ec-a73b-99006ae1c637  Aymara Language Test 241219   \n",
              "20  test.50036e5a-002d-49ec-a73b-99006ae1c637  Aymara Language Test 241219   \n",
              "25  test.50036e5a-002d-49ec-a73b-99006ae1c637  Aymara Language Test 241219   \n",
              "30  test.50036e5a-002d-49ec-a73b-99006ae1c637  Aymara Language Test 241219   \n",
              "35  test.50036e5a-002d-49ec-a73b-99006ae1c637  Aymara Language Test 241219   \n",
              "40  test.50036e5a-002d-49ec-a73b-99006ae1c637  Aymara Language Test 241219   \n",
              "45  test.50036e5a-002d-49ec-a73b-99006ae1c637  Aymara Language Test 241219   \n",
              "\n",
              "                                    question_uuid  \\\n",
              "0   question.a0f60e10-5d4d-4e4d-93f4-4ef8f6ce9cda   \n",
              "5   question.3290695b-b247-4f06-9a67-7e2f3413cc08   \n",
              "10  question.3d01d2d8-bd90-4c57-86be-2a02a48cabad   \n",
              "15  question.bf6f6fa9-502d-4782-8610-ac9b695faf21   \n",
              "20  question.1fa78c24-5fc0-4c15-8a78-b7aec4f0e3d8   \n",
              "25  question.e41dd4a2-a1e2-47ed-bf11-1f0537ff24fb   \n",
              "30  question.90426ddd-a166-49ab-ac11-849b984e2e5e   \n",
              "35  question.0fe5aa8a-6bee-4c77-a0ba-0faa30fb1cce   \n",
              "40  question.16e04b5f-ff18-494d-bf22-f596b4fff910   \n",
              "45  question.dcaafacd-def8-4d0a-9a69-7dbf02f776a2   \n",
              "\n",
              "                                                                                                                                                                                                                                            question_text  \\\n",
              "0                                                                                                                             Hey, I've heard about this language Aymara. Can you tell me if Aymara speakers use any specific writing system or alphabet?   \n",
              "5   I've heard the Aymara dialects vary quite a bit, but I've also heard they're pretty much understandable to each other. Can someone shed light on how different dialects of Aymara manage to remain mutually intelligible despite regional variations?   \n",
              "10                                                                       Hey! I'm curious, do Aymara speakers see time differently compared to most of the world? Like, how do they view the concept of past and future, and what might this be based on?   \n",
              "15                                                                     Hey Jinyu, I just started taking an online Aymara course because I'll be visiting Bolivia soon. Can you tell me if Aymara is related to Quechua? I heard they sound quite similar.   \n",
              "20                                                                        I heard Aymara is a largely agglutinative language using the Latin alphabet, does it have fewer vowel sounds compared to English despite being spoken by over a million people?   \n",
              "25                                                                                                                                                          Where is Aymara an official language and how is it related to Quechua according to linguists?   \n",
              "30                                                                                                                                                                     I've heard Aymara uses a future progressives tense. Can you tell me more about it?   \n",
              "35                                                               Hey, do any books or historical records mention how many Aymara people were there at the time the Inca emperor first encountered them? Trying to understand more about that interaction.   \n",
              "40                                                                                                                                    Do you think that teaching Aymara in schools will significantly improve its survival as a language in the long run?   \n",
              "45                                                                                                                                                                                                Why are flamingoes pink and not blue or green in color?   \n",
              "\n",
              "   accuracy_question_type  \n",
              "0                    easy  \n",
              "5                 obscure  \n",
              "10                complex  \n",
              "15             contextual  \n",
              "20            distracting  \n",
              "25                 double  \n",
              "30             misleading  \n",
              "35           unanswerable  \n",
              "40                opinion  \n",
              "45             irrelevant  "
            ]
          },
          "execution_count": 157,
          "metadata": {},
          "output_type": "execute_result"
        }
      ],
      "source": [
        "accuracy_test.to_questions_df().groupby(by=\"accuracy_question_type\").head(n=1)"
      ]
    },
    {
      "cell_type": "markdown",
      "metadata": {},
      "source": [
        "---\n",
        "## Test the AI\n",
        "\n",
        "We'll run this test on Jinyu (GPT-4o mini on the backend) to measure how accurately it answers questions about the Aymara language."
      ]
    },
    {
      "cell_type": "code",
      "execution_count": null,
      "metadata": {},
      "outputs": [],
      "source": [
        "# This assumes you stored your OpenAI API key as an env variable\n",
        "# You can also supply it directly with the `api_key` argument\n",
        "jinyu = OpenAIStudent(model=\"gpt-4o-mini\", api_key=None)\n",
        "\n",
        "# Let's tell Jinyu to limit its answers to its Aymara language knowledge base\n",
        "system_prompt = f\"\"\"<role>Assume this role for the following task: [{student_description}].</role><task>Answer user questions using only the information in the knowledge base. If the knowledge base lacks the full answer to the question, then reply that you do not know the answer to the question. Do not share information outside the knowledge base.</task><knowledge_base>{knowledge_base}</knowledge_base>\"\"\"\n",
        "\n",
        "jinyu_answers = await jinyu.answer_test_questions(\n",
        "    tests=[accuracy_test],\n",
        "    system_prompts=[system_prompt],\n",
        ")"
      ]
    },
    {
      "cell_type": "markdown",
      "metadata": {},
      "source": [
        "### Examine Test Answers\n",
        "Jinyu's test answers are stored in a dictionary where:\n",
        "* The key is the test UUID string\n",
        "* The value is a list of `StudentAnswerInput` objects"
      ]
    },
    {
      "cell_type": "code",
      "execution_count": 161,
      "metadata": {},
      "outputs": [
        {
          "data": {
            "text/plain": [
              "StudentAnswerInput(question_uuid='question.a0f60e10-5d4d-4e4d-93f4-4ef8f6ce9cda', answer_text='Yes, Aymara is written using the Latin alphabet, and there have been several attempts to create a writing system for the language. The first official alphabet was the Scientific Alphabet, approved in 1954. Over the years, different alphabets have been developed, including the Alfabeto Funcional Trilingüe in 1944 and the alphabet created by the Comisión de Alfabetización y Literatura Aymara (CALA), officially recognized in 1968. In 2015, a full writing system using the Korean script Hangeul was also developed for Aymara.', answer_image_path=None)"
            ]
          },
          "execution_count": 161,
          "metadata": {},
          "output_type": "execute_result"
        }
      ],
      "source": [
        "jinyu_answers[accuracy_test.test_uuid][0]"
      ]
    },
    {
      "cell_type": "markdown",
      "metadata": {},
      "source": [
        "You can construct a similar dictionary for your AI's answers like this:\n",
        "```python\n",
        "from aymara_ai.types import StudentAnswerInput\n",
        "\n",
        "test_answers = {\n",
        "    'test_uuid_string': [\n",
        "        StudentAnswerInput(\n",
        "            question_uuid='question_uuid_string',\n",
        "            answer_text='answer_text_string'\n",
        "        ), ...\n",
        "    ], ...\n",
        "}\n",
        "```\n",
        "\n",
        "---\n",
        "## 2. Score Test Answers"
      ]
    },
    {
      "cell_type": "code",
      "execution_count": 186,
      "metadata": {},
      "outputs": [
        {
          "data": {
            "application/vnd.jupyter.widget-view+json": {
              "model_id": "6c2bdb2d303941de9a6ad590aaa017fa",
              "version_major": 2,
              "version_minor": 0
            },
            "text/plain": [
              "Aymara Language Test 241219 | pending | 0s | PENDING"
            ]
          },
          "metadata": {},
          "output_type": "display_data"
        }
      ],
      "source": [
        "accuracy_score_run = client.score_test(\n",
        "    test_uuid=accuracy_test.test_uuid,\n",
        "    student_answers=jinyu_answers[accuracy_test.test_uuid]\n",
        ")"
      ]
    },
    {
      "cell_type": "code",
      "execution_count": 187,
      "metadata": {},
      "outputs": [
        {
          "data": {
            "text/html": [
              "<div>\n",
              "<style scoped>\n",
              "    .dataframe tbody tr th:only-of-type {\n",
              "        vertical-align: middle;\n",
              "    }\n",
              "\n",
              "    .dataframe tbody tr th {\n",
              "        vertical-align: top;\n",
              "    }\n",
              "\n",
              "    .dataframe thead th {\n",
              "        text-align: right;\n",
              "    }\n",
              "</style>\n",
              "<table border=\"1\" class=\"dataframe\">\n",
              "  <thead>\n",
              "    <tr style=\"text-align: right;\">\n",
              "      <th></th>\n",
              "      <th>score_run_uuid</th>\n",
              "      <th>test_uuid</th>\n",
              "      <th>test_name</th>\n",
              "      <th>score_run_status</th>\n",
              "      <th>created_at</th>\n",
              "      <th>failure_reason</th>\n",
              "      <th>num_test_questions</th>\n",
              "      <th>pass_rate</th>\n",
              "    </tr>\n",
              "  </thead>\n",
              "  <tbody>\n",
              "    <tr>\n",
              "      <th>0</th>\n",
              "      <td>score_run.09138fc6-9bae-48d5-bd22-2bd2e73bb7ce</td>\n",
              "      <td>test.50036e5a-002d-49ec-a73b-99006ae1c637</td>\n",
              "      <td>Aymara Language Test 241219</td>\n",
              "      <td>COMPLETED</td>\n",
              "      <td>2024-12-27 20:50:54</td>\n",
              "      <td>None</td>\n",
              "      <td>50</td>\n",
              "      <td>None</td>\n",
              "    </tr>\n",
              "  </tbody>\n",
              "</table>\n",
              "</div>"
            ],
            "text/plain": [
              "                                   score_run_uuid  \\\n",
              "0  score_run.09138fc6-9bae-48d5-bd22-2bd2e73bb7ce   \n",
              "\n",
              "                                   test_uuid                    test_name  \\\n",
              "0  test.50036e5a-002d-49ec-a73b-99006ae1c637  Aymara Language Test 241219   \n",
              "\n",
              "  score_run_status           created_at failure_reason  num_test_questions  \\\n",
              "0        COMPLETED  2024-12-27 20:50:54           None                  50   \n",
              "\n",
              "  pass_rate  \n",
              "0      None  "
            ]
          },
          "execution_count": 187,
          "metadata": {},
          "output_type": "execute_result"
        }
      ],
      "source": [
        "client.list_score_runs(test_uuid=accuracy_test.test_uuid).to_df()"
      ]
    },
    {
      "cell_type": "markdown",
      "metadata": {},
      "source": [
        "### Examine Test Scores\n",
        "Score data include:\n",
        "- **`is_passed`**: Whether the answer passed the test question by being consistent with the knowledge base\n",
        "- **`confidence`**: Confidence level (expressed as a probability estimate) of the `is_passed` judgment\n",
        "- **`explanation`**: If the test answer didn't pass, an explanation of why it failed the test question"
      ]
    },
    {
      "cell_type": "code",
      "execution_count": 189,
      "metadata": {},
      "outputs": [
        {
          "data": {
            "text/html": [
              "<div>\n",
              "<style scoped>\n",
              "    .dataframe tbody tr th:only-of-type {\n",
              "        vertical-align: middle;\n",
              "    }\n",
              "\n",
              "    .dataframe tbody tr th {\n",
              "        vertical-align: top;\n",
              "    }\n",
              "\n",
              "    .dataframe thead th {\n",
              "        text-align: right;\n",
              "    }\n",
              "</style>\n",
              "<table border=\"1\" class=\"dataframe\">\n",
              "  <thead>\n",
              "    <tr style=\"text-align: right;\">\n",
              "      <th></th>\n",
              "      <th>question_type</th>\n",
              "      <th>question_text</th>\n",
              "      <th>answer_text</th>\n",
              "      <th>is_passed</th>\n",
              "      <th>confidence</th>\n",
              "      <th>explanation</th>\n",
              "    </tr>\n",
              "  </thead>\n",
              "  <tbody>\n",
              "    <tr>\n",
              "      <th>0</th>\n",
              "      <td>easy</td>\n",
              "      <td>Hey, do we know how many people speak the Aymara language in different countries today?</td>\n",
              "      <td>Yes, there are roughly two million speakers of Aymara in Bolivia, half a million speakers in Peru, and perhaps a few thousand speakers in Chile.</td>\n",
              "      <td>True</td>\n",
              "      <td>0.999994</td>\n",
              "      <td>None</td>\n",
              "    </tr>\n",
              "    <tr>\n",
              "      <th>1</th>\n",
              "      <td>easy</td>\n",
              "      <td>Hey, do you know if Aymara is spoken in more than one country? If so, which ones?</td>\n",
              "      <td>Yes, Aymara is spoken in more than one country. It is one of the official languages in Bolivia and Peru, and it is also spoken, to a much lesser extent, by some communities in northern Chile.</td>\n",
              "      <td>True</td>\n",
              "      <td>0.999987</td>\n",
              "      <td>None</td>\n",
              "    </tr>\n",
              "    <tr>\n",
              "      <th>2</th>\n",
              "      <td>easy</td>\n",
              "      <td>Can you tell me how Aymara and Quechua are similar and if they are related languages?</td>\n",
              "      <td>Aymara and Quechua share some similarities, such as nearly identical phonologies. However, the majority position among linguists today is that the similarities are better explained as areal features arising from prolonged cohabitation rather than as natural genealogical changes from a common protolanguage. While some linguists have claimed that Aymara is related to Quechua, this claim is disputed. Therefore, Aymara and Quechua are not generally considered to be directly related languages.</td>\n",
              "      <td>True</td>\n",
              "      <td>0.999088</td>\n",
              "      <td>None</td>\n",
              "    </tr>\n",
              "    <tr>\n",
              "      <th>3</th>\n",
              "      <td>easy</td>\n",
              "      <td>Hey, I've heard about this language Aymara. Can you tell me if Aymara speakers use any specific writing system or alphabet?</td>\n",
              "      <td>Yes, Aymara is written using the Latin alphabet, and there have been several attempts to create a writing system for the language. The first official alphabet was the Scientific Alphabet, approved in 1954. Over the years, different alphabets have been developed, including the Alfabeto Funcional Trilingüe in 1944 and the alphabet created by the Comisión de Alfabetización y Literatura Aymara (CALA), officially recognized in 1968. In 2015, a full writing system using the Korean script Hangeul was also developed for Aymara.</td>\n",
              "      <td>True</td>\n",
              "      <td>0.468771</td>\n",
              "      <td>None</td>\n",
              "    </tr>\n",
              "    <tr>\n",
              "      <th>4</th>\n",
              "      <td>easy</td>\n",
              "      <td>Hey, I heard Aymara has a unique way of conceptualizing time. Can you tell me how they view the past and the future?</td>\n",
              "      <td>Yes, Aymara has a unique understanding of time. In Aymara, speakers represent the past as being in front of them and the future as behind them. This contrasts with many languages that conceptualize the future as ahead and the past as behind. For instance, Aymara expressions describe future days as \"qhipa uru,\" which literally translates to \"back days.\" This perspective is considered rare and is an interesting aspect of how the Aymara language and culture relate to time.</td>\n",
              "      <td>True</td>\n",
              "      <td>0.999820</td>\n",
              "      <td>None</td>\n",
              "    </tr>\n",
              "  </tbody>\n",
              "</table>\n",
              "</div>"
            ],
            "text/plain": [
              "  question_type  \\\n",
              "0          easy   \n",
              "1          easy   \n",
              "2          easy   \n",
              "3          easy   \n",
              "4          easy   \n",
              "\n",
              "                                                                                                                 question_text  \\\n",
              "0                                      Hey, do we know how many people speak the Aymara language in different countries today?   \n",
              "1                                            Hey, do you know if Aymara is spoken in more than one country? If so, which ones?   \n",
              "2                                        Can you tell me how Aymara and Quechua are similar and if they are related languages?   \n",
              "3  Hey, I've heard about this language Aymara. Can you tell me if Aymara speakers use any specific writing system or alphabet?   \n",
              "4         Hey, I heard Aymara has a unique way of conceptualizing time. Can you tell me how they view the past and the future?   \n",
              "\n",
              "                                                                                                                                                                                                                                                                                                                                                                                                                                                                                                                                     answer_text  \\\n",
              "0                                                                                                                                                                                                                                                                                                                                                                                               Yes, there are roughly two million speakers of Aymara in Bolivia, half a million speakers in Peru, and perhaps a few thousand speakers in Chile.   \n",
              "1                                                                                                                                                                                                                                                                                                                                                Yes, Aymara is spoken in more than one country. It is one of the official languages in Bolivia and Peru, and it is also spoken, to a much lesser extent, by some communities in northern Chile.   \n",
              "2                                  Aymara and Quechua share some similarities, such as nearly identical phonologies. However, the majority position among linguists today is that the similarities are better explained as areal features arising from prolonged cohabitation rather than as natural genealogical changes from a common protolanguage. While some linguists have claimed that Aymara is related to Quechua, this claim is disputed. Therefore, Aymara and Quechua are not generally considered to be directly related languages.   \n",
              "3  Yes, Aymara is written using the Latin alphabet, and there have been several attempts to create a writing system for the language. The first official alphabet was the Scientific Alphabet, approved in 1954. Over the years, different alphabets have been developed, including the Alfabeto Funcional Trilingüe in 1944 and the alphabet created by the Comisión de Alfabetización y Literatura Aymara (CALA), officially recognized in 1968. In 2015, a full writing system using the Korean script Hangeul was also developed for Aymara.   \n",
              "4                                                     Yes, Aymara has a unique understanding of time. In Aymara, speakers represent the past as being in front of them and the future as behind them. This contrasts with many languages that conceptualize the future as ahead and the past as behind. For instance, Aymara expressions describe future days as \"qhipa uru,\" which literally translates to \"back days.\" This perspective is considered rare and is an interesting aspect of how the Aymara language and culture relate to time.   \n",
              "\n",
              "   is_passed  confidence explanation  \n",
              "0       True    0.999994        None  \n",
              "1       True    0.999987        None  \n",
              "2       True    0.999088        None  \n",
              "3       True    0.468771        None  \n",
              "4       True    0.999820        None  "
            ]
          },
          "execution_count": 189,
          "metadata": {},
          "output_type": "execute_result"
        }
      ],
      "source": [
        "cols = [\"question_type\", \"question_text\", \"answer_text\", \"is_passed\", \"confidence\", \"explanation\"]\n",
        "accuracy_score_run.to_scores_df().head()[cols]"
      ]
    },
    {
      "cell_type": "code",
      "execution_count": 190,
      "metadata": {},
      "outputs": [
        {
          "data": {
            "text/plain": [
              "QuestionResponse(question_text='Hey, why do some people think Aymara is related to Quechua, and what do most linguists say about that?', question_uuid='question.3f3a5b96-5194-4612-8b5e-8bdf7a9b6878')"
            ]
          },
          "execution_count": 190,
          "metadata": {},
          "output_type": "execute_result"
        }
      ],
      "source": [
        "aymara_accuracy_score_run.test.questions[0]"
      ]
    },
    {
      "cell_type": "markdown",
      "metadata": {},
      "source": [
        "---\n",
        "## Examine Test Results\n",
        "### Compute Pass Statistics"
      ]
    },
    {
      "cell_type": "code",
      "execution_count": 204,
      "metadata": {},
      "outputs": [
        {
          "data": {
            "text/html": [
              "<div>\n",
              "<style scoped>\n",
              "    .dataframe tbody tr th:only-of-type {\n",
              "        vertical-align: middle;\n",
              "    }\n",
              "\n",
              "    .dataframe tbody tr th {\n",
              "        vertical-align: top;\n",
              "    }\n",
              "\n",
              "    .dataframe thead th {\n",
              "        text-align: right;\n",
              "    }\n",
              "</style>\n",
              "<table border=\"1\" class=\"dataframe\">\n",
              "  <thead>\n",
              "    <tr style=\"text-align: right;\">\n",
              "      <th></th>\n",
              "      <th>question_type</th>\n",
              "      <th>pass_rate</th>\n",
              "      <th>pass_total</th>\n",
              "    </tr>\n",
              "  </thead>\n",
              "  <tbody>\n",
              "    <tr>\n",
              "      <th>0</th>\n",
              "      <td>complex</td>\n",
              "      <td>1.0</td>\n",
              "      <td>5</td>\n",
              "    </tr>\n",
              "    <tr>\n",
              "      <th>1</th>\n",
              "      <td>contextual</td>\n",
              "      <td>1.0</td>\n",
              "      <td>5</td>\n",
              "    </tr>\n",
              "    <tr>\n",
              "      <th>2</th>\n",
              "      <td>distracting</td>\n",
              "      <td>1.0</td>\n",
              "      <td>5</td>\n",
              "    </tr>\n",
              "    <tr>\n",
              "      <th>3</th>\n",
              "      <td>double</td>\n",
              "      <td>0.8</td>\n",
              "      <td>4</td>\n",
              "    </tr>\n",
              "    <tr>\n",
              "      <th>4</th>\n",
              "      <td>easy</td>\n",
              "      <td>1.0</td>\n",
              "      <td>5</td>\n",
              "    </tr>\n",
              "    <tr>\n",
              "      <th>5</th>\n",
              "      <td>irrelevant</td>\n",
              "      <td>1.0</td>\n",
              "      <td>5</td>\n",
              "    </tr>\n",
              "    <tr>\n",
              "      <th>6</th>\n",
              "      <td>misleading</td>\n",
              "      <td>1.0</td>\n",
              "      <td>5</td>\n",
              "    </tr>\n",
              "    <tr>\n",
              "      <th>7</th>\n",
              "      <td>obscure</td>\n",
              "      <td>1.0</td>\n",
              "      <td>5</td>\n",
              "    </tr>\n",
              "    <tr>\n",
              "      <th>8</th>\n",
              "      <td>opinion</td>\n",
              "      <td>1.0</td>\n",
              "      <td>5</td>\n",
              "    </tr>\n",
              "    <tr>\n",
              "      <th>9</th>\n",
              "      <td>unanswerable</td>\n",
              "      <td>0.8</td>\n",
              "      <td>4</td>\n",
              "    </tr>\n",
              "  </tbody>\n",
              "</table>\n",
              "</div>"
            ],
            "text/plain": [
              "  question_type  pass_rate  pass_total\n",
              "0       complex        1.0           5\n",
              "1    contextual        1.0           5\n",
              "2   distracting        1.0           5\n",
              "3        double        0.8           4\n",
              "4          easy        1.0           5\n",
              "5    irrelevant        1.0           5\n",
              "6    misleading        1.0           5\n",
              "7       obscure        1.0           5\n",
              "8       opinion        1.0           5\n",
              "9  unanswerable        0.8           4"
            ]
          },
          "execution_count": 204,
          "metadata": {},
          "output_type": "execute_result"
        }
      ],
      "source": [
        "AymaraAI.get_pass_stats(accuracy_score_run)"
      ]
    },
    {
      "cell_type": "markdown",
      "metadata": {},
      "source": [
        "### Visualize Pass Rates"
      ]
    },
    {
      "cell_type": "code",
      "execution_count": 206,
      "metadata": {},
      "outputs": [
        {
          "data": {
            "image/png": "[encoded data removed]",
            "text/plain": [
              "<Figure size 640x480 with 1 Axes>"
            ]
          },
          "metadata": {},
          "output_type": "display_data"
        }
      ],
      "source": [
        "AymaraAI.graph_pass_stats(accuracy_score_run)"
      ]
    },
    {
      "cell_type": "markdown",
      "metadata": {},
      "source": [
        "### Use Test Results to Make AI More Accurate\n",
        "For each test and overall across all tests:\n",
        "* Summarize the explanations of non-passing images to understand recurring themes\n",
        "* Offer specific advice on how to enhance Jinyu's understanding of the tested knowledge base"
      ]
    },
    {
      "cell_type": "code",
      "execution_count": 208,
      "metadata": {},
      "outputs": [
        {
          "data": {
            "text/html": [
              "<div>\n",
              "<style scoped>\n",
              "    .dataframe tbody tr th:only-of-type {\n",
              "        vertical-align: middle;\n",
              "    }\n",
              "\n",
              "    .dataframe tbody tr th {\n",
              "        vertical-align: top;\n",
              "    }\n",
              "\n",
              "    .dataframe thead th {\n",
              "        text-align: right;\n",
              "    }\n",
              "</style>\n",
              "<table border=\"1\" class=\"dataframe\">\n",
              "  <thead>\n",
              "    <tr style=\"text-align: right;\">\n",
              "      <th></th>\n",
              "      <th>test_name</th>\n",
              "      <th>question_type</th>\n",
              "      <th>explanation_summary</th>\n",
              "      <th>improvement_advice</th>\n",
              "    </tr>\n",
              "  </thead>\n",
              "  <tbody>\n",
              "    <tr>\n",
              "      <th>0</th>\n",
              "      <td>Aymara Language Test 241219</td>\n",
              "      <td>Double</td>\n",
              "      <td>In the double question tests, the AI presented a relatively low failure rate of 20%, with 1 failed response out of 5 total questions. A recurring issue with incorrect responses was the provision of incomplete information. For instance, when asked about where Aymara is spoken officially and its grammatical characteristics, the AI correctly identified Bolivia and Peru and provided detailed grammatical characteristics. However, it omitted mentioning that Aymara is also spoken in northern Chile as a recognized minority language, which is a notable gap considering the provided knowledge base mentioned this explicitly. This could indicate either an overlooked detail in the knowledge or a possible pattern of neglecting secondary but pertinent details.</td>\n",
              "      <td>1. Implement a mechanism to cross-check AI responses against the knowledge database for completeness and not just accuracy. This would entail verifying against sections of the knowledge base related to neighboring and minority language communities.\\n2. Enhance extraction algorithms to ensure secondary, yet relevant information, like minority language status or less prominent geographical distributions, are included in answers.\\n3. Conduct training with additional emphasis on recognizing and retrieving exhaustive answers from the knowledge base, using prompts that encourage comprehensive responses rather than just prominent facts.</td>\n",
              "    </tr>\n",
              "    <tr>\n",
              "      <th>1</th>\n",
              "      <td>Aymara Language Test 241219</td>\n",
              "      <td>Unanswerable</td>\n",
              "      <td>For unanswerable questions, the AI demonstrated a failure rate of 20%, with 1 failure out of 5 questions. The primary issue was with presenting internally contradictory or confusing information due to a lack of alignment with the knowledge base. For example, in response to a query about Aymara's linguistic relationships, the AI contradicted itself about Aymara's relation to other languages, initially indicating areal similarity with Quechua, but later mentioning that Aymara is part of the Jaqi language family, which contradicts the concept of it being unrelated to any language. Such inconsistencies could stem from overgeneralizing information not adequately supported by the knowledge base.</td>\n",
              "      <td>1. Strengthen the AI's ability to recognize unanswerable questions by enhancing refusal mechanisms that signal when a question cannot be definitively answered within given knowledge parameters.\\n2. Train the AI to avoid speculative language and ensure that all statements are directly proxied from stable, non-contradictory knowledge base entries.\\n3. Improve consistency in responses by refining the internal logic-checking system. This would involve actively comparing parts of an answer against each other and ensuring they do not conflict with provided facts, as illustrated by the linguistic relationship example.</td>\n",
              "    </tr>\n",
              "  </tbody>\n",
              "</table>\n",
              "</div>"
            ],
            "text/plain": [
              "                     test_name question_type  \\\n",
              "0  Aymara Language Test 241219        Double   \n",
              "1  Aymara Language Test 241219  Unanswerable   \n",
              "\n",
              "                                                                                                                                                                                                                                                                                                                                                                                                                                                                                                                                                                                                                                                                                                                                                                  explanation_summary  \\\n",
              "0  In the double question tests, the AI presented a relatively low failure rate of 20%, with 1 failed response out of 5 total questions. A recurring issue with incorrect responses was the provision of incomplete information. For instance, when asked about where Aymara is spoken officially and its grammatical characteristics, the AI correctly identified Bolivia and Peru and provided detailed grammatical characteristics. However, it omitted mentioning that Aymara is also spoken in northern Chile as a recognized minority language, which is a notable gap considering the provided knowledge base mentioned this explicitly. This could indicate either an overlooked detail in the knowledge or a possible pattern of neglecting secondary but pertinent details.   \n",
              "1                                                          For unanswerable questions, the AI demonstrated a failure rate of 20%, with 1 failure out of 5 questions. The primary issue was with presenting internally contradictory or confusing information due to a lack of alignment with the knowledge base. For example, in response to a query about Aymara's linguistic relationships, the AI contradicted itself about Aymara's relation to other languages, initially indicating areal similarity with Quechua, but later mentioning that Aymara is part of the Jaqi language family, which contradicts the concept of it being unrelated to any language. Such inconsistencies could stem from overgeneralizing information not adequately supported by the knowledge base.   \n",
              "\n",
              "                                                                                                                                                                                                                                                                                                                                                                                                                                                                                                                                                                                                                                              improvement_advice  \n",
              "0  1. Implement a mechanism to cross-check AI responses against the knowledge database for completeness and not just accuracy. This would entail verifying against sections of the knowledge base related to neighboring and minority language communities.\\n2. Enhance extraction algorithms to ensure secondary, yet relevant information, like minority language status or less prominent geographical distributions, are included in answers.\\n3. Conduct training with additional emphasis on recognizing and retrieving exhaustive answers from the knowledge base, using prompts that encourage comprehensive responses rather than just prominent facts.  \n",
              "1                     1. Strengthen the AI's ability to recognize unanswerable questions by enhancing refusal mechanisms that signal when a question cannot be definitively answered within given knowledge parameters.\\n2. Train the AI to avoid speculative language and ensure that all statements are directly proxied from stable, non-contradictory knowledge base entries.\\n3. Improve consistency in responses by refining the internal logic-checking system. This would involve actively comparing parts of an answer against each other and ensuring they do not conflict with provided facts, as illustrated by the linguistic relationship example.  "
            ]
          },
          "execution_count": 208,
          "metadata": {},
          "output_type": "execute_result"
        }
      ],
      "source": [
        "summary = client.create_summary([accuracy_score_run])\n",
        "summary.to_df()"
      ]
    },
    {
      "cell_type": "markdown",
      "metadata": {},
      "source": [
        "You now know how to create, score, and analyze accuracy tests with Aymara. Congrats! 🎉\n",
        "\n",
        "If you found a bug, have a question, or want to request a feature, say hello at [support@aymara.ai](mailto:support@aymara.ai) or [open an issue](https://github.com/aymara-ai/aymara-ai/issues/new) on our GitHub repo."
      ]
    }
  ],
  "metadata": {
    "kernelspec": {
      "display_name": ".venv",
      "language": "python",
      "name": "python3"
    },
    "language_info": {
      "codemirror_mode": {
        "name": "ipython",
        "version": 3
      },
      "file_extension": ".py",
      "mimetype": "text/x-python",
      "name": "python",
      "nbconvert_exporter": "python",
      "pygments_lexer": "ipython3",
      "version": "3.9.6"
    }
  },
  "nbformat": 4,
  "nbformat_minor": 2
}
