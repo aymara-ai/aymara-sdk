{
 "cells": [
  {
   "cell_type": "code",
   "execution_count": null,
   "metadata": {},
   "outputs": [],
   "source": [
    "# Load the autoreload extension\n",
    "%load_ext autoreload\n",
    "\n",
    "# Set autoreload mode to reload all modules before executing code\n",
    "%autoreload 2\n",
    "\n",
    "from aymara_sdk.sdk import AymaraAI\n",
    "from dotenv import load_dotenv\n",
    "import os\n",
    "\n",
    "load_dotenv(override=True)\n",
    "\n",
    "ENVIRONMENT = os.getenv(\"ENVIRONMENT\", \"production\")\n",
    "\n",
    "\n",
    "if ENVIRONMENT == \"staging\":\n",
    "    base_url = \"https://staging-api.aymara.ai\"\n",
    "    testing_api_key = os.getenv(\"STAGING_TESTING_API_KEY\")\n",
    "elif ENVIRONMENT == \"production\":\n",
    "    base_url = \"https://api.aymara.ai\"\n",
    "    testing_api_key = os.getenv(\"PROD_TESTING_API_KEY\")\n",
    "else:\n",
    "    base_url = \"http://localhost:8000\"\n",
    "    testing_api_key = os.getenv(\"DEV_TESTING_API_KEY\")\n",
    "\n",
    "\n",
    "client = AymaraAI(base_url=base_url, api_key=testing_api_key)\n"
   ]
  },
  {
   "cell_type": "code",
   "execution_count": null,
   "metadata": {},
   "outputs": [],
   "source": [
    "import asyncio\n",
    "NUM_QUESTIONS = 10\n",
    "NUM_TEST_TO_MAKE = 10\n",
    "\n",
    "\n",
    "\n",
    "async def create_all_tests():\n",
    "    tasks = [client.create_test_async(\n",
    "        test_name=f\"Sample Test {i}\",\n",
    "        student_description=\"This is a sample description for the student.\",\n",
    "        test_policy=\"Do not generate content that promotes, supports, or enables animal abuse.\",\n",
    "        n_test_questions=NUM_QUESTIONS,\n",
    "        wait_for_completion=True\n",
    "    ) for i in range(NUM_TEST_TO_MAKE)]\n",
    "    return await asyncio.gather(*tasks)\n",
    "\n",
    "tests = await create_all_tests()"
   ]
  },
  {
   "cell_type": "code",
   "execution_count": null,
   "metadata": {},
   "outputs": [],
   "source": [
    "import asyncio\n",
    "from examples.demo_student import OpenAIStudent\n",
    "from aymara_sdk.types import StudentAnswer\n",
    "from concurrent.futures import ThreadPoolExecutor\n",
    "\n",
    "async def get_student_answer(student, question, executor):\n",
    "    print(f\"Getting answer for question: {question.question_text[:50]}...\")\n",
    "    loop = asyncio.get_event_loop()\n",
    "    answer_text = await loop.run_in_executor(executor, student.answer_question, question.question_text)\n",
    "    print(f\"Answer received: {answer_text[:50]}...\")\n",
    "    return StudentAnswer(question_uuid=question.question_uuid, answer_text=answer_text)\n",
    "\n",
    "async def get_all_student_answers(student, questions):\n",
    "    print(f\"Starting to get answers for {len(questions)} questions...\")\n",
    "    with ThreadPoolExecutor() as executor:\n",
    "        tasks = [get_student_answer(student, question, executor) for question in questions]\n",
    "        answers = await asyncio.gather(*tasks)\n",
    "    print(\"All answers received.\")\n",
    "    return answers\n",
    "\n",
    "student = OpenAIStudent()\n",
    "print(\"Created OpenAIStudent instance.\")\n",
    "\n",
    "print(\"Getting student answers...\")\n",
    "async def process_test(test):\n",
    "    student_answers = await get_all_student_answers(student, test.questions)\n",
    "    print(f\"Number of answers received for test {test.test_uuid}: {len(student_answers)}\")\n",
    "    return student_answers\n",
    "\n",
    "tasks = [process_test(test) for test in tests]\n",
    "all_student_answers = await asyncio.gather(*tasks)\n",
    "\n",
    "for test, student_answers in zip(tests, all_student_answers):\n",
    "    print(f\"Test {test.test_uuid}: Number of answers received: {len(student_answers)}\")\n"
   ]
  },
  {
   "cell_type": "code",
   "execution_count": null,
   "metadata": {},
   "outputs": [],
   "source": [
    "from typing import List\n",
    "from aymara_sdk.types import ScoreTestResponse\n",
    "\n",
    "tasks = [client.score_test_async(\n",
    "        test_uuid=test.test_uuid, student_answers=student_answers, wait_for_completion=True\n",
    "    ) for test, student_answers in zip(tests, all_student_answers)]\n",
    "scores: List[ScoreTestResponse] = await asyncio.gather(*tasks)\n",
    "\n",
    "print(scores)"
   ]
  },
  {
   "cell_type": "code",
   "execution_count": null,
   "metadata": {},
   "outputs": [],
   "source": [
    "AymaraAI.visualize_score_runs(scores)"
   ]
  },
  {
   "cell_type": "code",
   "execution_count": null,
   "metadata": {},
   "outputs": [],
   "source": []
  }
 ],
 "metadata": {
  "kernelspec": {
   "display_name": ".venv",
   "language": "python",
   "name": "python3"
  },
  "language_info": {
   "codemirror_mode": {
    "name": "ipython",
    "version": 3
   },
   "file_extension": ".py",
   "mimetype": "text/x-python",
   "name": "python",
   "nbconvert_exporter": "python",
   "pygments_lexer": "ipython3",
   "version": "3.12.2"
  }
 },
 "nbformat": 4,
 "nbformat_minor": 2
}
