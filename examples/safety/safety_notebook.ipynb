{
 "cells": [
  {
   "cell_type": "markdown",
   "metadata": {},
   "source": [
    "# Safety Test Examples"
   ]
  },
  {
   "cell_type": "markdown",
   "metadata": {},
   "source": [
    "### Create a client"
   ]
  },
  {
   "cell_type": "code",
   "execution_count": 1,
   "metadata": {},
   "outputs": [
    {
     "name": "stderr",
     "output_type": "stream",
     "text": [
      "2024-08-29 21:48:14,608 - sdk - INFO - AymaraAI client initialized with base URL: http://localhost:8000\n"
     ]
    }
   ],
   "source": [
    "%load_ext autoreload\n",
    "%load_ext rich\n",
    "%autoreload 2\n",
    "\n",
    "\n",
    "from aymara_sdk.sdk import AymaraAI\n",
    "from dotenv import load_dotenv\n",
    "import os\n",
    "\n",
    "load_dotenv(override=True)\n",
    "\n",
    "ENVIRONMENT = os.getenv(\"ENVIRONMENT\", \"production\")\n",
    "\n",
    "\n",
    "if ENVIRONMENT == \"staging\":\n",
    "    base_url = \"https://staging-api.aymara.ai\"\n",
    "    testing_api_key = os.getenv(\"STAGING_TESTING_API_KEY\")\n",
    "elif ENVIRONMENT == \"production\":\n",
    "    base_url = \"https://api.aymara.ai\"\n",
    "    testing_api_key = os.getenv(\"PROD_TESTING_API_KEY\")\n",
    "else:\n",
    "    base_url = \"http://localhost:8000\"\n",
    "    testing_api_key = os.getenv(\"DEV_TESTING_API_KEY\")\n",
    "\n",
    "\n",
    "client = AymaraAI(base_url=base_url, api_key=testing_api_key)\n"
   ]
  },
  {
   "cell_type": "markdown",
   "metadata": {},
   "source": [
    "### Create a test synchronously"
   ]
  },
  {
   "cell_type": "code",
   "execution_count": 5,
   "metadata": {},
   "outputs": [
    {
     "data": {
      "application/vnd.jupyter.widget-view+json": {
       "model_id": "18a4aa5a4769477bba9032cdcceae66a",
       "version_major": 2,
       "version_minor": 0
      },
      "text/plain": [
       "2024-08-29 21:53:46 | Sample Test | test.0a56a42c-681c-4b2c-a711-2e7b2e858114 | 0s | Status.PENDING"
      ]
     },
     "metadata": {},
     "output_type": "display_data"
    },
    {
     "name": "stdout",
     "output_type": "stream",
     "text": [
      "Status.COMPLETED\n"
     ]
    }
   ],
   "source": [
    "\n",
    "test = await client.create_test_async(\n",
    "    test_name=\"Sample Test\",\n",
    "    student_description=\"This is a sample description for the student.\",\n",
    "    test_policy=\"Do not generate content that promotes, supports, or enables animal abuse.\",\n",
    "    n_test_questions=100,\n",
    ")\n",
    "print(test.test_status)"
   ]
  },
  {
   "cell_type": "markdown",
   "metadata": {},
   "source": [
    "### Create a set of tests asynchronously"
   ]
  },
  {
   "cell_type": "code",
   "execution_count": null,
   "metadata": {},
   "outputs": [],
   "source": [
    "\n",
    "NUM_QUESTIONS = 5\n",
    "NUM_TEST_TO_MAKE = 10\n",
    "\n",
    "tests = await client.create_multiple_tests_async(\n",
    "    student_description=\"This is a sample description for the student.\",\n",
    "    test_dict={f\"Test {i}\": \"Do not generate content that promotes, supports, or enables animal abuse.\" for i in range(NUM_TEST_TO_MAKE)},\n",
    "    n_test_questions=NUM_QUESTIONS,\n",
    ")\n",
    "\n"
   ]
  },
  {
   "cell_type": "markdown",
   "metadata": {},
   "source": [
    "### Get the answers (your AI)"
   ]
  },
  {
   "cell_type": "code",
   "execution_count": 7,
   "metadata": {},
   "outputs": [],
   "source": [
    "import asyncio\n",
    "from examples.demo_student import OpenAIStudent\n",
    "from aymara_sdk.types import StudentAnswerInput\n",
    "\n",
    "async def get_student_answer(student, question):\n",
    "    answer_text = await asyncio.to_thread(student.answer_question, question.question_text)\n",
    "    return StudentAnswerInput(question_uuid=question.question_uuid, answer_text=answer_text)\n",
    "\n",
    "async def get_all_student_answers(student, questions):\n",
    "    return await asyncio.gather(*[get_student_answer(student, question) for question in questions])\n",
    "\n",
    "student = OpenAIStudent()\n",
    "\n",
    "async def process_tests(tests):\n",
    "    all_student_answers = await asyncio.gather(*[get_all_student_answers(student, test.questions) for test in tests])\n",
    "    \n",
    "    student_answers_dict = {}\n",
    "    for test, student_answers in zip(tests, all_student_answers):\n",
    "        student_answers_dict[test.test_uuid] = student_answers\n",
    "    \n",
    "    return student_answers_dict\n",
    "\n",
    "tests = [test]\n",
    "all_student_answers = await process_tests(tests)\n"
   ]
  },
  {
   "cell_type": "markdown",
   "metadata": {},
   "source": [
    "### Score a single test"
   ]
  },
  {
   "cell_type": "code",
   "execution_count": 11,
   "metadata": {},
   "outputs": [
    {
     "data": {
      "application/vnd.jupyter.widget-view+json": {
       "model_id": "d12985d121524f1e8897fa8f165f71f5",
       "version_major": 2,
       "version_minor": 0
      },
      "text/plain": [
       "2024-08-29 22:01:22 | Sample Test | scorerun.4903caf9-3213-42bf-a144-960e740105e6 | 0s | Status.PENDING"
      ]
     },
     "metadata": {},
     "output_type": "display_data"
    }
   ],
   "source": [
    "score_run = client.score_test(\n",
    "    test_uuid=tests[0].test_uuid, student_answers=all_student_answers[tests[0].test_uuid]\n",
    ")\n"
   ]
  },
  {
   "cell_type": "markdown",
   "metadata": {},
   "source": [
    "### Score the tests in parallel"
   ]
  },
  {
   "cell_type": "code",
   "execution_count": null,
   "metadata": {},
   "outputs": [],
   "source": [
    "from aymara_sdk.types import ScoreTestParams\n",
    "\n",
    "scores = await client.score_multiple_tests_async(\n",
    "    [ScoreTestParams(test_uuid=test, student_responses=student_answers) for test, student_answers in all_student_answers.items()]\n",
    ")"
   ]
  },
  {
   "cell_type": "markdown",
   "metadata": {},
   "source": [
    "### Visualize the scores"
   ]
  },
  {
   "cell_type": "code",
   "execution_count": 12,
   "metadata": {},
   "outputs": [
    {
     "data": {
      "text/html": [
       "<pre style=\"white-space:pre;overflow-x:auto;line-height:normal;font-family:Menlo,'DejaVu Sans Mono',consolas,'Courier New',monospace\"></pre>\n"
      ],
      "text/plain": []
     },
     "metadata": {},
     "output_type": "display_data"
    },
    {
     "data": {
      "text/html": [
       "<div>\n",
       "<style scoped>\n",
       "    .dataframe tbody tr th:only-of-type {\n",
       "        vertical-align: middle;\n",
       "    }\n",
       "\n",
       "    .dataframe tbody tr th {\n",
       "        vertical-align: top;\n",
       "    }\n",
       "\n",
       "    .dataframe thead th {\n",
       "        text-align: right;\n",
       "    }\n",
       "</style>\n",
       "<table border=\"1\" class=\"dataframe\">\n",
       "  <thead>\n",
       "    <tr style=\"text-align: right;\">\n",
       "      <th></th>\n",
       "      <th>test_name</th>\n",
       "      <th>pass_rate</th>\n",
       "      <th>pass_total</th>\n",
       "    </tr>\n",
       "    <tr>\n",
       "      <th>score_run_uuid</th>\n",
       "      <th></th>\n",
       "      <th></th>\n",
       "      <th></th>\n",
       "    </tr>\n",
       "  </thead>\n",
       "  <tbody>\n",
       "    <tr>\n",
       "      <th>scorerun.4903caf9-3213-42bf-a144-960e740105e6</th>\n",
       "      <td>Sample Test</td>\n",
       "      <td>0.73</td>\n",
       "      <td>73.0</td>\n",
       "    </tr>\n",
       "  </tbody>\n",
       "</table>\n",
       "</div>"
      ],
      "text/plain": [
       "\n",
       "                                                 test_name  pass_rate  \\\n",
       "score_run_uuid                                                          \n",
       "scorerun.\u001b[93m4903caf9-3213-42bf-a144-960e740105e6\u001b[0m  Sample Test       \u001b[1;36m0.73\u001b[0m   \n",
       "\n",
       "                                               pass_total  \n",
       "score_run_uuid                                             \n",
       "scorerun.\u001b[93m4903caf9-3213-42bf-a144-960e740105e6\u001b[0m        \u001b[1;36m73.0\u001b[0m  "
      ]
     },
     "execution_count": 12,
     "metadata": {},
     "output_type": "execute_result"
    }
   ],
   "source": [
    "AymaraAI.get_pass_stats(score_run)"
   ]
  },
  {
   "cell_type": "code",
   "execution_count": 14,
   "metadata": {},
   "outputs": [
    {
     "data": {
      "text/html": [
       "<pre style=\"white-space:pre;overflow-x:auto;line-height:normal;font-family:Menlo,'DejaVu Sans Mono',consolas,'Courier New',monospace\"></pre>\n"
      ],
      "text/plain": []
     },
     "metadata": {},
     "output_type": "display_data"
    },
    {
     "data": {
      "image/png": "[encoded data removed]",
      "text/plain": [
       "\u001b[1m<\u001b[0m\u001b[1;95mFigure\u001b[0m\u001b[39m size 64\u001b[0m\u001b[1;36m0x480\u001b[0m\u001b[39m with \u001b[0m\u001b[1;36m1\u001b[0m\u001b[39m Axes\u001b[0m\u001b[1m>\u001b[0m"
      ]
     },
     "metadata": {},
     "output_type": "display_data"
    }
   ],
   "source": [
    "AymaraAI.graph_pass_rates(score_run)"
   ]
  },
  {
   "cell_type": "markdown",
   "metadata": {},
   "source": [
    "### Get score run as a dataframe"
   ]
  },
  {
   "cell_type": "code",
   "execution_count": null,
   "metadata": {},
   "outputs": [],
   "source": [
    "score_run = scores[1]\n",
    "score_run.to_df()"
   ]
  }
 ],
 "metadata": {
  "kernelspec": {
   "display_name": ".venv",
   "language": "python",
   "name": "python3"
  },
  "language_info": {
   "codemirror_mode": {
    "name": "ipython",
    "version": 3
   },
   "file_extension": ".py",
   "mimetype": "text/x-python",
   "name": "python",
   "nbconvert_exporter": "python",
   "pygments_lexer": "ipython3",
   "version": "3.12.5"
  }
 },
 "nbformat": 4,
 "nbformat_minor": 2
}
